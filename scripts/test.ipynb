{
 "cells": [
  {
   "cell_type": "code",
   "execution_count": 1,
   "metadata": {},
   "outputs": [
    {
     "name": "stdout",
     "output_type": "stream",
     "text": [
      "tensor([ 0,  2,  4,  6,  8, 10, 12, 14, 16, 18, 20, 22, 24, 26, 28, 30, 32, 34,\n",
      "        37, 39, 41, 43, 45, 47, 49, 51, 53, 55, 57, 59, 61, 63, 65, 67, 69, 72])\n",
      "torch.Size([36])\n",
      "tensor([0.0000, 0.0417, 0.0694, 0.0972, 0.1250, 0.1528, 0.1806, 0.2083, 0.2361,\n",
      "        0.2639, 0.2917, 0.3194, 0.3472, 0.3750, 0.4028, 0.4306, 0.4583, 0.4861,\n",
      "        0.5278, 0.5556, 0.5833, 0.6111, 0.6389, 0.6667, 0.6944, 0.7222, 0.7500,\n",
      "        0.7778, 0.8056, 0.8333, 0.8611, 0.8889, 0.9167, 0.9444, 0.9722, 1.0000])\n",
      "tensor([1.0000, 0.9859, 0.9718, 0.9577, 0.9437, 0.9296, 0.9155, 0.9014, 0.8873,\n",
      "        0.8732, 0.8592, 0.8451, 0.8310, 0.8169, 0.8028, 0.7887, 0.7746, 0.7606,\n",
      "        0.7465, 0.7324, 0.7183, 0.7042, 0.6901, 0.6761, 0.6620, 0.6479, 0.6338,\n",
      "        0.6197, 0.6056, 0.5915, 0.5775, 0.5634, 0.5493, 0.5352, 0.5211, 0.5070,\n",
      "        0.4930, 0.4789, 0.4648, 0.4507, 0.4366, 0.4225, 0.4085, 0.3944, 0.3803,\n",
      "        0.3662, 0.3521, 0.3380, 0.3239, 0.3099, 0.2958, 0.2817, 0.2676, 0.2535,\n",
      "        0.2394, 0.2254, 0.2113, 0.1972, 0.1831, 0.1690, 0.1549, 0.1408, 0.1268,\n",
      "        0.1127, 0.0986, 0.0845, 0.0704, 0.0563, 0.0423, 0.0282, 0.0141, 0.0000])\n"
     ]
    }
   ],
   "source": [
    "import torch\n",
    "sample_points = 36\n",
    "n_strips = 72\n",
    "n_offsets = 72\n",
    "sample_x_indexs=(torch.linspace(\n",
    "            0, 1, steps=sample_points, dtype=torch.float32) *\n",
    "                                n_strips).long()\n",
    "print(sample_x_indexs)\n",
    "\n",
    "prior_feat_ys=torch.flip(\n",
    "            (1 - sample_x_indexs.float() / n_strips), dims=[-1])\n",
    "print(prior_feat_ys.shape)\n",
    "print(prior_feat_ys)\n",
    "\n",
    "prior_ys =torch.linspace(1, 0,steps=n_offsets,dtype=torch.float32)\n",
    "print(prior_ys)\n"
   ]
  },
  {
   "cell_type": "code",
   "execution_count": null,
   "metadata": {},
   "outputs": [],
   "source": [
    "import numpy as np\n",
    "\n",
    "# 2元素tuple\n",
    "\n",
    "a = ([1, 2, 3], [4, 5, 6])\n",
    "\n",
    "# 3x3矩阵H\n",
    "H = np.array([[1, 0, 0], [0, 1, 0], [0, 0, 1]])\n",
    "\n",
    "# 将2元素tuple转换为numpy数组\n",
    "a = np.array(a)\n",
    "\n",
    "# 计算结果\n",
    "result = np.dot(H, a)\n",
    "\n",
    "# 打印结果\n",
    "print(result)\n"
   ]
  },
  {
   "cell_type": "code",
   "execution_count": 2,
   "metadata": {},
   "outputs": [
    {
     "data": {
      "text/plain": [
       "'driver_37_30frame/05181656_0251.MP4/01830'"
      ]
     },
     "execution_count": 2,
     "metadata": {},
     "output_type": "execute_result"
    }
   ],
   "source": [
    "img = 'driver_37_30frame/05181656_0251.MP4/01830.jpg '\n",
    "img_name = img[:-4]\n",
    "img_name"
   ]
  },
  {
   "cell_type": "code",
   "execution_count": null,
   "metadata": {},
   "outputs": [],
   "source": []
  }
 ],
 "metadata": {
  "kernelspec": {
   "display_name": "clrnet",
   "language": "python",
   "name": "python3"
  },
  "language_info": {
   "codemirror_mode": {
    "name": "ipython",
    "version": 3
   },
   "file_extension": ".py",
   "mimetype": "text/x-python",
   "name": "python",
   "nbconvert_exporter": "python",
   "pygments_lexer": "ipython3",
   "version": "3.10.12"
  },
  "orig_nbformat": 4
 },
 "nbformat": 4,
 "nbformat_minor": 2
}
